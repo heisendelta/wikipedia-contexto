{
 "cells": [
  {
   "cell_type": "code",
   "execution_count": 13,
   "id": "22dd2958",
   "metadata": {},
   "outputs": [],
   "source": [
    "from collections import defaultdict\n",
    "from IPython.display import display\n",
    "import pickle\n",
    "\n",
    "import numpy as np\n",
    "import pandas as pd\n",
    "from tqdm import tqdm\n",
    "\n",
    "from wordfreq import zipf_frequency\n",
    "import spacy"
   ]
  },
  {
   "cell_type": "code",
   "execution_count": 2,
   "id": "e82d2791",
   "metadata": {},
   "outputs": [],
   "source": [
    "nlp = spacy.load('en_core_web_sm')"
   ]
  },
  {
   "cell_type": "code",
   "execution_count": 3,
   "id": "8863d48f",
   "metadata": {},
   "outputs": [],
   "source": [
    "def load_glove_embeddings(glove_path):\n",
    "    embeddings = {}\n",
    "    with open(glove_path, 'r', encoding='utf-8') as f:\n",
    "        for line in f:\n",
    "            parts = line.strip().split()\n",
    "            word = parts[0]\n",
    "            vec = np.array(parts[1:], dtype=np.float32)\n",
    "            embeddings[word] = vec\n",
    "    return embeddings\n",
    "\n",
    "glove = load_glove_embeddings('data/glove.6B.100d.txt')"
   ]
  },
  {
   "cell_type": "code",
   "execution_count": 4,
   "id": "bcfe3ad8",
   "metadata": {},
   "outputs": [
    {
     "name": "stdout",
     "output_type": "stream",
     "text": [
      "Number of keywords: 400000\n"
     ]
    }
   ],
   "source": [
    "print('Number of keywords:', len(glove))"
   ]
  },
  {
   "cell_type": "code",
   "execution_count": 5,
   "id": "7a08380b",
   "metadata": {},
   "outputs": [
    {
     "name": "stderr",
     "output_type": "stream",
     "text": [
      "100%|████████████████████████████████████████████████████████████████████████████████████████████████████████████████████████████████████████████████████| 400000/400000 [15:44<00:00, 423.71it/s]\n"
     ]
    }
   ],
   "source": [
    "def filter_glove_vocab(glove_dict):\n",
    "    clean_glove = {}\n",
    "\n",
    "    for word in tqdm(glove_dict.keys()):\n",
    "        doc = nlp(word)\n",
    "        token = doc[0]\n",
    "\n",
    "        if not token.is_alpha: continue\n",
    "        if token.is_stop: continue\n",
    "        if token.pos_ in {\"PROPN\", \"DET\", \"ADP\"}:\n",
    "            continue\n",
    "        clean_glove[word] = glove_dict[word]\n",
    "\n",
    "    return clean_glove\n",
    "\n",
    "filtered_glove = filter_glove_vocab(glove)"
   ]
  },
  {
   "cell_type": "code",
   "execution_count": 6,
   "id": "36955184",
   "metadata": {},
   "outputs": [
    {
     "name": "stdout",
     "output_type": "stream",
     "text": [
      "Number of keywords: 211719\n"
     ]
    }
   ],
   "source": [
    "print('Number of keywords:', len(filtered_glove))"
   ]
  },
  {
   "cell_type": "code",
   "execution_count": 20,
   "id": "64c46b13",
   "metadata": {},
   "outputs": [],
   "source": [
    "def save_to_pickle(item, name):\n",
    "    with open(f'data/{name}.pkl', 'wb') as f:\n",
    "        pickle.dump(item, f)"
   ]
  },
  {
   "cell_type": "code",
   "execution_count": null,
   "id": "43549cd2",
   "metadata": {},
   "outputs": [],
   "source": [
    "# save_to_pickle(filtered_glove, 'filtered_glove')"
   ]
  },
  {
   "cell_type": "code",
   "execution_count": 7,
   "id": "5c0faa10",
   "metadata": {},
   "outputs": [
    {
     "name": "stderr",
     "output_type": "stream",
     "text": [
      "100%|████████████████████████████████████████████████████████████████████████████████████████████████████████████████████████████████████████████████████| 211719/211719 [07:59<00:00, 441.32it/s]\n"
     ]
    }
   ],
   "source": [
    "def group_and_average_by_lemma(glove_dict):\n",
    "    lemma_groups = defaultdict(list)\n",
    "\n",
    "    for word in tqdm(glove_dict.keys()):\n",
    "        lemma = nlp(word)[0].lemma_\n",
    "        lemma_groups[lemma].append(glove_dict[word])\n",
    "\n",
    "    averaged_glove = {}\n",
    "    for lemma, vecs in lemma_groups.items():\n",
    "        averaged_vec = np.mean(vecs, axis=0)\n",
    "        averaged_glove[lemma] = averaged_vec\n",
    "\n",
    "    return averaged_glove\n",
    "\n",
    "averaged_glove = group_and_average_by_lemma(filtered_glove)"
   ]
  },
  {
   "cell_type": "code",
   "execution_count": 8,
   "id": "800af7c1",
   "metadata": {},
   "outputs": [
    {
     "name": "stdout",
     "output_type": "stream",
     "text": [
      "Number of keywords: 168791\n"
     ]
    }
   ],
   "source": [
    "print('Number of keywords:', len(averaged_glove))"
   ]
  },
  {
   "cell_type": "code",
   "execution_count": null,
   "id": "b7546ba9",
   "metadata": {},
   "outputs": [],
   "source": [
    "# save_to_pickle(averaged_glove, 'averaged_glove')"
   ]
  },
  {
   "cell_type": "code",
   "execution_count": 9,
   "id": "9fb3a5e5",
   "metadata": {},
   "outputs": [],
   "source": [
    "def build_zipf_ranking(glove_dict, lang=\"en\"):\n",
    "    ranked_words = []\n",
    "    for word in glove_dict:\n",
    "        score = zipf_frequency(word, lang, wordlist='best')\n",
    "        ranked_words.append((word, score))\n",
    "    ranked_words.sort(key=lambda x: x[1], reverse=True)  # high freq first\n",
    "    return ranked_words\n",
    "\n",
    "ranked_glove = build_zipf_ranking(averaged_glove)"
   ]
  },
  {
   "cell_type": "code",
   "execution_count": null,
   "id": "2d5060f3",
   "metadata": {},
   "outputs": [],
   "source": [
    "# save_to_pickle(ranked_glove, 'ranked_glove')"
   ]
  },
  {
   "cell_type": "code",
   "execution_count": 10,
   "id": "92f83648",
   "metadata": {},
   "outputs": [
    {
     "data": {
      "text/html": [
       "<div>\n",
       "<style scoped>\n",
       "    .dataframe tbody tr th:only-of-type {\n",
       "        vertical-align: middle;\n",
       "    }\n",
       "\n",
       "    .dataframe tbody tr th {\n",
       "        vertical-align: top;\n",
       "    }\n",
       "\n",
       "    .dataframe thead th {\n",
       "        text-align: right;\n",
       "    }\n",
       "</style>\n",
       "<table border=\"1\" class=\"dataframe\">\n",
       "  <thead>\n",
       "    <tr style=\"text-align: right;\">\n",
       "      <th></th>\n",
       "      <th>Word(s)</th>\n",
       "      <th>Zipf</th>\n",
       "    </tr>\n",
       "    <tr>\n",
       "      <th>Percentile</th>\n",
       "      <th></th>\n",
       "      <th></th>\n",
       "    </tr>\n",
       "  </thead>\n",
       "  <tbody>\n",
       "    <tr>\n",
       "      <th>0th</th>\n",
       "      <td>the, and, of, in</td>\n",
       "      <td>7.45</td>\n",
       "    </tr>\n",
       "    <tr>\n",
       "      <th>10th</th>\n",
       "      <td>loon, incomparable, mush, swivel, livid, fryer, phosphorylation</td>\n",
       "      <td>2.99</td>\n",
       "    </tr>\n",
       "    <tr>\n",
       "      <th>20th</th>\n",
       "      <td>groupthink, taurine, hsp, lek, lindt, mongoloid, ecp</td>\n",
       "      <td>2.33</td>\n",
       "    </tr>\n",
       "    <tr>\n",
       "      <th>30th</th>\n",
       "      <td>brendel, briquette, knud, rawal, amortisation, crooke, shippen</td>\n",
       "      <td>1.92</td>\n",
       "    </tr>\n",
       "    <tr>\n",
       "      <th>40th</th>\n",
       "      <td>foxwell, tardigrade, thermoluminescence, neurofibrillary, cowlick, healthfulness, husbandman</td>\n",
       "      <td>1.64</td>\n",
       "    </tr>\n",
       "    <tr>\n",
       "      <th>50th</th>\n",
       "      <td>imagism, bohinj, snowblind, amylopectin, augier, waterdown, wymore</td>\n",
       "      <td>1.40</td>\n",
       "    </tr>\n",
       "    <tr>\n",
       "      <th>60th</th>\n",
       "      <td>chernihiv, mérite, nunciature, emplace, muridae, mozarteum, nazmul</td>\n",
       "      <td>1.17</td>\n",
       "    </tr>\n",
       "    <tr>\n",
       "      <th>70th</th>\n",
       "      <td>hombach, byggmark, soysal, sjoland, toujour, bacai, laridae</td>\n",
       "      <td>0.00</td>\n",
       "    </tr>\n",
       "    <tr>\n",
       "      <th>80th</th>\n",
       "      <td>trbovlje, leatherstocke, donop, primor, guttorm, niedere, bushism</td>\n",
       "      <td>0.00</td>\n",
       "    </tr>\n",
       "    <tr>\n",
       "      <th>90th</th>\n",
       "      <td>akbarābād, mindorashvili, bubenik, armary, blessig, gunasegaran, mandisi</td>\n",
       "      <td>0.00</td>\n",
       "    </tr>\n",
       "  </tbody>\n",
       "</table>\n",
       "</div>"
      ],
      "text/plain": [
       "                                                                                                 Word(s)  \\\n",
       "Percentile                                                                                                 \n",
       "0th                                                                                     the, and, of, in   \n",
       "10th                                     loon, incomparable, mush, swivel, livid, fryer, phosphorylation   \n",
       "20th                                                groupthink, taurine, hsp, lek, lindt, mongoloid, ecp   \n",
       "30th                                      brendel, briquette, knud, rawal, amortisation, crooke, shippen   \n",
       "40th        foxwell, tardigrade, thermoluminescence, neurofibrillary, cowlick, healthfulness, husbandman   \n",
       "50th                                  imagism, bohinj, snowblind, amylopectin, augier, waterdown, wymore   \n",
       "60th                                  chernihiv, mérite, nunciature, emplace, muridae, mozarteum, nazmul   \n",
       "70th                                         hombach, byggmark, soysal, sjoland, toujour, bacai, laridae   \n",
       "80th                                   trbovlje, leatherstocke, donop, primor, guttorm, niedere, bushism   \n",
       "90th                            akbarābād, mindorashvili, bubenik, armary, blessig, gunasegaran, mandisi   \n",
       "\n",
       "            Zipf  \n",
       "Percentile        \n",
       "0th         7.45  \n",
       "10th        2.99  \n",
       "20th        2.33  \n",
       "30th        1.92  \n",
       "40th        1.64  \n",
       "50th        1.40  \n",
       "60th        1.17  \n",
       "70th        0.00  \n",
       "80th        0.00  \n",
       "90th        0.00  "
      ]
     },
     "metadata": {},
     "output_type": "display_data"
    }
   ],
   "source": [
    "def print_words_at_percentile(ranked_words, percentiles=[10, 25, 50, 75, 90], leeway=0):\n",
    "    total = len(ranked_words)\n",
    "    print_df = {'Percentile': [], 'Word(s)': [], 'Zipf': []}\n",
    "\n",
    "    for p in percentiles:\n",
    "        index = int(total * (p / 100))\n",
    "        index_range = slice(max(0, index - leeway), min(total, index + leeway + 1))\n",
    "\n",
    "        word_tuples = ranked_words[index_range]\n",
    "        words = [word_tuple[0] for word_tuple in word_tuples]\n",
    "        score = np.mean([word_tuple[1] for word_tuple in word_tuples])\n",
    "\n",
    "        # word, score = ranked_words[index]\n",
    "\n",
    "        print_df['Percentile'].append(f'{p}th')\n",
    "        print_df['Word(s)'].append(', '.join(words))\n",
    "        print_df['Zipf'].append(round(score, 2))\n",
    "\n",
    "        # print(f\"{p}th percentile: {word} (Zipf: {score:.2f})\")\n",
    "\n",
    "    pd.set_option('display.max_colwidth', None)\n",
    "\n",
    "    df = pd.DataFrame.from_dict(print_df)\n",
    "    df = df.set_index('Percentile')\n",
    "\n",
    "    # df = df.style.set_properties(subset=['Word(s)'], **{'text-align': 'left'})\n",
    "\n",
    "    display(df)\n",
    "\n",
    "n_percentiles = 10\n",
    "print_words_at_percentile(ranked_glove, percentiles=range(0, 100, 100 // n_percentiles), leeway=3)"
   ]
  },
  {
   "cell_type": "code",
   "execution_count": null,
   "id": "599b59fe",
   "metadata": {},
   "outputs": [
    {
     "data": {
      "text/html": [
       "<div>\n",
       "<style scoped>\n",
       "    .dataframe tbody tr th:only-of-type {\n",
       "        vertical-align: middle;\n",
       "    }\n",
       "\n",
       "    .dataframe tbody tr th {\n",
       "        vertical-align: top;\n",
       "    }\n",
       "\n",
       "    .dataframe thead th {\n",
       "        text-align: right;\n",
       "    }\n",
       "</style>\n",
       "<table border=\"1\" class=\"dataframe\">\n",
       "  <thead>\n",
       "    <tr style=\"text-align: right;\">\n",
       "      <th></th>\n",
       "      <th>Word(s)</th>\n",
       "      <th>Zipf</th>\n",
       "    </tr>\n",
       "    <tr>\n",
       "      <th>Percentile</th>\n",
       "      <th></th>\n",
       "      <th></th>\n",
       "    </tr>\n",
       "  </thead>\n",
       "  <tbody>\n",
       "    <tr>\n",
       "      <th>0th</th>\n",
       "      <td>the, and, of, in</td>\n",
       "      <td>7.45</td>\n",
       "    </tr>\n",
       "    <tr>\n",
       "      <th>10th</th>\n",
       "      <td>st, won, hold, industry, player, return, private</td>\n",
       "      <td>5.19</td>\n",
       "    </tr>\n",
       "    <tr>\n",
       "      <th>20th</th>\n",
       "      <td>worst, cancer, direction, dance, master, wonder, trump</td>\n",
       "      <td>4.93</td>\n",
       "    </tr>\n",
       "    <tr>\n",
       "      <th>30th</th>\n",
       "      <td>plane, mail, emergency, session, fuel, festival, zone</td>\n",
       "      <td>4.72</td>\n",
       "    </tr>\n",
       "    <tr>\n",
       "      <th>40th</th>\n",
       "      <td>cheese, weekly, adam, describe, tournament, constitution, victim</td>\n",
       "      <td>4.56</td>\n",
       "    </tr>\n",
       "    <tr>\n",
       "      <th>50th</th>\n",
       "      <td>assault, arrival, concrete, deeply, lieutenant, badly, fiction</td>\n",
       "      <td>4.44</td>\n",
       "    </tr>\n",
       "    <tr>\n",
       "      <th>60th</th>\n",
       "      <td>billy, trap, wooden, di, greatly, uniform, transmission</td>\n",
       "      <td>4.33</td>\n",
       "    </tr>\n",
       "    <tr>\n",
       "      <th>70th</th>\n",
       "      <td>substance, unexpected, aaron, legendary, syndrome, suggestion, recipe</td>\n",
       "      <td>4.23</td>\n",
       "    </tr>\n",
       "    <tr>\n",
       "      <th>80th</th>\n",
       "      <td>cc, morris, collins, southeast, norway, belgium, bacon</td>\n",
       "      <td>4.15</td>\n",
       "    </tr>\n",
       "    <tr>\n",
       "      <th>90th</th>\n",
       "      <td>burger, charming, curse, miserable, submission, monkey, span</td>\n",
       "      <td>4.07</td>\n",
       "    </tr>\n",
       "  </tbody>\n",
       "</table>\n",
       "</div>"
      ],
      "text/plain": [
       "                                                                          Word(s)  \\\n",
       "Percentile                                                                          \n",
       "0th                                                              the, and, of, in   \n",
       "10th                             st, won, hold, industry, player, return, private   \n",
       "20th                       worst, cancer, direction, dance, master, wonder, trump   \n",
       "30th                        plane, mail, emergency, session, fuel, festival, zone   \n",
       "40th             cheese, weekly, adam, describe, tournament, constitution, victim   \n",
       "50th               assault, arrival, concrete, deeply, lieutenant, badly, fiction   \n",
       "60th                      billy, trap, wooden, di, greatly, uniform, transmission   \n",
       "70th        substance, unexpected, aaron, legendary, syndrome, suggestion, recipe   \n",
       "80th                       cc, morris, collins, southeast, norway, belgium, bacon   \n",
       "90th                 burger, charming, curse, miserable, submission, monkey, span   \n",
       "\n",
       "            Zipf  \n",
       "Percentile        \n",
       "0th         7.45  \n",
       "10th        5.19  \n",
       "20th        4.93  \n",
       "30th        4.72  \n",
       "40th        4.56  \n",
       "50th        4.44  \n",
       "60th        4.33  \n",
       "70th        4.23  \n",
       "80th        4.15  \n",
       "90th        4.07  "
      ]
     },
     "metadata": {},
     "output_type": "display_data"
    }
   ],
   "source": [
    "k = 4\n",
    "ranked_glove_above_k = list(filter(lambda x: x[1] >= k, ranked_glove))\n",
    "\n",
    "print_words_at_percentile(ranked_glove_above_k, percentiles=range(0, 100, 100 // n_percentiles), leeway=3)"
   ]
  },
  {
   "cell_type": "code",
   "execution_count": 26,
   "id": "e2f7cfd7",
   "metadata": {},
   "outputs": [
    {
     "data": {
      "text/html": [
       "<div>\n",
       "<style scoped>\n",
       "    .dataframe tbody tr th:only-of-type {\n",
       "        vertical-align: middle;\n",
       "    }\n",
       "\n",
       "    .dataframe tbody tr th {\n",
       "        vertical-align: top;\n",
       "    }\n",
       "\n",
       "    .dataframe thead th {\n",
       "        text-align: right;\n",
       "    }\n",
       "</style>\n",
       "<table border=\"1\" class=\"dataframe\">\n",
       "  <thead>\n",
       "    <tr style=\"text-align: right;\">\n",
       "      <th></th>\n",
       "      <th>Word(s)</th>\n",
       "      <th>Zipf</th>\n",
       "    </tr>\n",
       "    <tr>\n",
       "      <th>Percentile</th>\n",
       "      <th></th>\n",
       "      <th></th>\n",
       "    </tr>\n",
       "  </thead>\n",
       "  <tbody>\n",
       "    <tr>\n",
       "      <th>0th</th>\n",
       "      <td>region, campaign, despite, nearly</td>\n",
       "      <td>5.00</td>\n",
       "    </tr>\n",
       "    <tr>\n",
       "      <th>10th</th>\n",
       "      <td>pull, metal, fashion, faith, hill, profile, hearing</td>\n",
       "      <td>4.82</td>\n",
       "    </tr>\n",
       "    <tr>\n",
       "      <th>20th</th>\n",
       "      <td>boston, strike, candidate, concern, sector, ireland, discuss</td>\n",
       "      <td>4.66</td>\n",
       "    </tr>\n",
       "    <tr>\n",
       "      <th>30th</th>\n",
       "      <td>catholic, mate, circle, surely, amazon, manner, noise</td>\n",
       "      <td>4.55</td>\n",
       "    </tr>\n",
       "    <tr>\n",
       "      <th>40th</th>\n",
       "      <td>jeff, covering, alan, luke, rome, islamic, producer</td>\n",
       "      <td>4.45</td>\n",
       "    </tr>\n",
       "    <tr>\n",
       "      <th>50th</th>\n",
       "      <td>stretch, exit, luxury, tear, exception, preferred, knock</td>\n",
       "      <td>4.35</td>\n",
       "    </tr>\n",
       "    <tr>\n",
       "      <th>60th</th>\n",
       "      <td>fiscal, venture, mutual, controversy, virtually, requirement, offense</td>\n",
       "      <td>4.26</td>\n",
       "    </tr>\n",
       "    <tr>\n",
       "      <th>70th</th>\n",
       "      <td>taxi, glasgow, nerve, sheep, bacteria, sandy, emotion</td>\n",
       "      <td>4.19</td>\n",
       "    </tr>\n",
       "    <tr>\n",
       "      <th>80th</th>\n",
       "      <td>tribe, adjacent, pete, pursuit, journalism, excessive, brad</td>\n",
       "      <td>4.12</td>\n",
       "    </tr>\n",
       "    <tr>\n",
       "      <th>90th</th>\n",
       "      <td>chile, password, smartphone, adorable, pokemon, sierra, spectacular</td>\n",
       "      <td>4.06</td>\n",
       "    </tr>\n",
       "  </tbody>\n",
       "</table>\n",
       "</div>"
      ],
      "text/plain": [
       "                                                                          Word(s)  \\\n",
       "Percentile                                                                          \n",
       "0th                                             region, campaign, despite, nearly   \n",
       "10th                          pull, metal, fashion, faith, hill, profile, hearing   \n",
       "20th                 boston, strike, candidate, concern, sector, ireland, discuss   \n",
       "30th                        catholic, mate, circle, surely, amazon, manner, noise   \n",
       "40th                          jeff, covering, alan, luke, rome, islamic, producer   \n",
       "50th                     stretch, exit, luxury, tear, exception, preferred, knock   \n",
       "60th        fiscal, venture, mutual, controversy, virtually, requirement, offense   \n",
       "70th                        taxi, glasgow, nerve, sheep, bacteria, sandy, emotion   \n",
       "80th                  tribe, adjacent, pete, pursuit, journalism, excessive, brad   \n",
       "90th          chile, password, smartphone, adorable, pokemon, sierra, spectacular   \n",
       "\n",
       "            Zipf  \n",
       "Percentile        \n",
       "0th         5.00  \n",
       "10th        4.82  \n",
       "20th        4.66  \n",
       "30th        4.55  \n",
       "40th        4.45  \n",
       "50th        4.35  \n",
       "60th        4.26  \n",
       "70th        4.19  \n",
       "80th        4.12  \n",
       "90th        4.06  "
      ]
     },
     "metadata": {},
     "output_type": "display_data"
    }
   ],
   "source": [
    "def get_words(word_tuple, range=[4.0, 5.0]):\n",
    "    word, zipf_score = word_tuple[0], word_tuple[1]\n",
    "    return len(word) > 3 and range[0] <= zipf_score <= range[1]\n",
    "\n",
    "filtered_ranked_glove = list(filter(get_words, ranked_glove))\n",
    "print_words_at_percentile(filtered_ranked_glove, percentiles=range(0, 100, 100 // n_percentiles), leeway=3)"
   ]
  },
  {
   "cell_type": "code",
   "execution_count": 29,
   "id": "49f5124e",
   "metadata": {},
   "outputs": [
    {
     "data": {
      "text/plain": [
       "(('region', 5.0), ('campaign', 5.0))"
      ]
     },
     "execution_count": 29,
     "metadata": {},
     "output_type": "execute_result"
    }
   ],
   "source": [
    "filtered_ranked_glove[0], filtered_ranked_glove[1] "
   ]
  },
  {
   "cell_type": "code",
   "execution_count": 27,
   "id": "52b10af5",
   "metadata": {},
   "outputs": [
    {
     "data": {
      "text/plain": [
       "3572"
      ]
     },
     "execution_count": 27,
     "metadata": {},
     "output_type": "execute_result"
    }
   ],
   "source": [
    "len(filtered_ranked_glove)"
   ]
  }
 ],
 "metadata": {
  "kernelspec": {
   "display_name": "Python 3 (ipykernel)",
   "language": "python",
   "name": "python3"
  },
  "language_info": {
   "codemirror_mode": {
    "name": "ipython",
    "version": 3
   },
   "file_extension": ".py",
   "mimetype": "text/x-python",
   "name": "python",
   "nbconvert_exporter": "python",
   "pygments_lexer": "ipython3",
   "version": "3.12.3"
  }
 },
 "nbformat": 4,
 "nbformat_minor": 5
}
